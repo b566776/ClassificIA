{
 "cells": [
  {
   "cell_type": "markdown",
   "id": "0f3e4760",
   "metadata": {},
   "source": [
    "# Etapa 2: Pré-processamento de Dados e Treinamento do Modelo de IA\n",
    "\n",
    "Este notebook realiza o pré-processamento dos dados simulados e treina um modelo de Machine Learning para classificar sequências de leituras do sensor ultrassônico.\n",
    "\n",
    "---\n"
   ]
  },
  {
   "cell_type": "markdown",
   "id": "2b0c4773",
   "metadata": {},
   "source": [
    "## 1. Instalação e Importação de Bibliotecas\n",
    "\n",
    "Instale e importe as bibliotecas necessárias para manipulação de dados, modelagem e visualização."
   ]
  },
  {
   "cell_type": "code",
   "execution_count": null,
   "id": "fbe0f520",
   "metadata": {},
   "outputs": [
    {
     "ename": "",
     "evalue": "",
     "output_type": "error",
     "traceback": [
      "\u001b[1;31mThe kernel failed to start as the Python Environment 'Python 3.13.1' is no longer available. Consider selecting another kernel or refreshing the list of Python Environments."
     ]
    }
   ],
   "source": [
    "# Instalar e importar bibliotecas necessárias\n",
    "import numpy as np\n",
    "import pandas as pd\n",
    "import matplotlib.pyplot as plt\n",
    "from sklearn.model_selection import train_test_split\n",
    "from sklearn.preprocessing import MinMaxScaler\n",
    "import tensorflow as tf\n",
    "from tensorflow import keras\n",
    "from tensorflow.keras import layers\n",
    "\n",
    "\n"
   ]
  },
  {
   "cell_type": "markdown",
   "id": "d3f86330",
   "metadata": {},
   "source": [
    "## 2. Carregamento do Dataset\n",
    "\n",
    "Carregue o arquivo de dados simulados gerado na Etapa 1."
   ]
  },
  {
   "cell_type": "code",
   "execution_count": null,
   "id": "cfe1c9d9",
   "metadata": {},
   "outputs": [],
   "source": [
    "# Carregar o dataset\n",
    "arquivo = 'dados_sensores_simulados.csv'\n",
    "df = pd.read_csv(arquivo)\n",
    "df.head()"
   ]
  },
  {
   "cell_type": "markdown",
   "id": "173d0762",
   "metadata": {},
   "source": [
    "## 3. Pré-processamento dos Dados\n",
    "\n",
    "Agrupe os dados por `id_cenario` e crie janelas de tamanho fixo para alimentar o modelo sequencial."
   ]
  },
  {
   "cell_type": "code",
   "execution_count": null,
   "id": "2edcaad8",
   "metadata": {},
   "outputs": [],
   "source": [
    "# Parâmetros de janelamento\n",
    "janela = 30  # tamanho da janela (número de leituras por amostra)\n",
    "\n",
    "X = []\n",
    "y = []\n",
    "\n",
    "for id_cenario, grupo in df.groupby('id_cenario'):\n",
    "    distancias = grupo['distancia_cm'].values\n",
    "    tipo = grupo['tipo_obstaculo'].iloc[0]\n",
    "    # Gera janelas deslizantes\n",
    "    for i in range(len(distancias) - janela + 1):\n",
    "        X.append(distancias[i:i+janela])\n",
    "        y.append(tipo)\n",
    "\n",
    "X = np.array(X)\n",
    "y = np.array(y)\n",
    "print(f\"Total de amostras: {X.shape[0]}\")\n"
   ]
  },
  {
   "cell_type": "code",
   "execution_count": null,
   "id": "32aded42",
   "metadata": {},
   "outputs": [],
   "source": [
    "# Normalização dos dados\n",
    "scaler = MinMaxScaler()\n",
    "X = scaler.fit_transform(X)\n",
    "X = X.reshape(-1, janela, 1)  # Formato para LSTM: (amostras, timesteps, features)\n"
   ]
  },
  {
   "cell_type": "code",
   "execution_count": null,
   "id": "9d8e70af",
   "metadata": {},
   "outputs": [],
   "source": [
    "# Divisão em treino, validação e teste\n",
    "X_train, X_temp, y_train, y_temp = train_test_split(X, y, test_size=0.3, random_state=42, stratify=y)\n",
    "X_val, X_test, y_val, y_test = train_test_split(X_temp, y_temp, test_size=0.5, random_state=42, stratify=y_temp)\n",
    "print(f\"Treino: {X_train.shape[0]}, Validação: {X_val.shape[0]}, Teste: {X_test.shape[0]}\")\n"
   ]
  },
  {
   "cell_type": "code",
   "execution_count": null,
   "id": "137d7bc4",
   "metadata": {},
   "outputs": [],
   "source": [
    "# Conversão dos rótulos para one-hot encoding\n",
    "# Corrige o offset dos rótulos para garantir que começam em 0\n",
    "from sklearn.preprocessing import LabelEncoder\n",
    "le = LabelEncoder()\n",
    "y_encoded = le.fit_transform(y)\n",
    "y_train_cat = keras.utils.to_categorical(le.transform(y_train), len(le.classes_))\n",
    "y_val_cat = keras.utils.to_categorical(le.transform(y_val), len(le.classes_))\n",
    "y_test_cat = keras.utils.to_categorical(le.transform(y_test), len(le.classes_))\n",
    "num_classes = len(le.classes_)\n"
   ]
  },
  {
   "cell_type": "markdown",
   "id": "fdb63114",
   "metadata": {},
   "source": [
    "## 4. Construção e Treinamento do Modelo\n",
    "\n",
    "Crie e treine um modelo LSTM simples para classificação das sequências."
   ]
  },
  {
   "cell_type": "code",
   "execution_count": null,
   "id": "1c463ed4",
   "metadata": {},
   "outputs": [],
   "source": [
    "# Modelo LSTM simples\n",
    "model = keras.Sequential([\n",
    "    layers.Input(shape=(janela, 1)),\n",
    "    layers.LSTM(32, return_sequences=False),\n",
    "    layers.Dense(32, activation='relu'),\n",
    "    layers.Dense(num_classes, activation='softmax')\n",
    "])\n",
    "model.compile(optimizer='adam', loss='categorical_crossentropy', metrics=['accuracy'])\n",
    "model.summary()\n"
   ]
  },
  {
   "cell_type": "code",
   "execution_count": null,
   "id": "a41caee0",
   "metadata": {},
   "outputs": [],
   "source": [
    "# Callbacks\n",
    "callbacks = [\n",
    "    keras.callbacks.EarlyStopping(patience=5, restore_best_weights=True),\n",
    "    keras.callbacks.ModelCheckpoint('melhor_modelo.h5', save_best_only=True)\n",
    "]\n",
    "\n",
    "# Treinamento\n",
    "history = model.fit(\n",
    "    X_train, y_train_cat,\n",
    "    validation_data=(X_val, y_val_cat),\n",
    "    epochs=30,\n",
    "    batch_size=64,\n",
    "    callbacks=callbacks\n",
    ")\n"
   ]
  },
  {
   "cell_type": "markdown",
   "id": "3dd63466",
   "metadata": {},
   "source": [
    "## 5. Avaliação e Salvamento do Modelo\n",
    "\n",
    "Avalie o modelo no conjunto de teste e salve o modelo treinado."
   ]
  },
  {
   "cell_type": "code",
   "execution_count": null,
   "id": "c7528f3b",
   "metadata": {},
   "outputs": [],
   "source": [
    "# Avaliação\n",
    "loss, acc = model.evaluate(X_test, y_test_cat)\n",
    "print(f\"Acurácia no teste: {acc:.2%}\")\n",
    "\n",
    "# Salvamento\n",
    "model.save('modelo_obstaculos_lstm.h5')\n",
    "print(\"Modelo salvo como modelo_obstaculos_lstm.h5\")\n"
   ]
  },
  {
   "cell_type": "markdown",
   "id": "ba96ba0c",
   "metadata": {},
   "source": [
    "## 6. Visualização do Treinamento\n",
    "\n",
    "Visualize a curva de acurácia e perda durante o treinamento."
   ]
  },
  {
   "cell_type": "code",
   "execution_count": null,
   "id": "14be4bcc",
   "metadata": {},
   "outputs": [],
   "source": [
    "plt.figure(figsize=(10,4))\n",
    "plt.subplot(1,2,1)\n",
    "plt.plot(history.history['accuracy'], label='Treino')\n",
    "plt.plot(history.history['val_accuracy'], label='Validação')\n",
    "plt.title('Acurácia')\n",
    "plt.legend()\n",
    "plt.subplot(1,2,2)\n",
    "plt.plot(history.history['loss'], label='Treino')\n",
    "plt.plot(history.history['val_loss'], label='Validação')\n",
    "plt.title('Perda')\n",
    "plt.legend()\n",
    "plt.tight_layout()\n",
    "plt.show()"
   ]
  }
 ],
 "metadata": {
  "kernelspec": {
   "display_name": "Python 3",
   "language": "python",
   "name": "python3"
  },
  "language_info": {
   "codemirror_mode": {
    "name": "ipython",
    "version": 3
   },
   "file_extension": ".py",
   "mimetype": "text/x-python",
   "name": "python",
   "nbconvert_exporter": "python",
   "pygments_lexer": "ipython3",
   "version": "3.13.1"
  }
 },
 "nbformat": 4,
 "nbformat_minor": 5
}
